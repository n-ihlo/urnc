{
 "cells": [
  {
   "cell_type": "markdown",
   "metadata": {},
   "source": [
    "# URNC Example Notebook\n",
    "\n",
    "This notebook is here to test the processing of the urnc command line tool"
   ]
  },
  {
   "cell_type": "markdown",
   "metadata": {
    "tags": []
   },
   "source": [
    "## Exercise Detection\n",
    "\n",
    "Exercises are:\n",
    "- markdown cells\n",
    "- start with `### Exercise`\n",
    "- have an exercise id afterwars in `` `exercise-id-here` ``\n",
    "\n",
    "Exercises are detected if they are markdown headers of level 3 and called `Exercise`, e.g `### Exercise`.\n"
   ]
  },
  {
   "cell_type": "markdown",
   "metadata": {
    "tags": []
   },
   "source": [
    "So ``### Exercise `example-1` `` becomes"
   ]
  },
  {
   "cell_type": "markdown",
   "metadata": {
    "exercise_id": "example-1",
    "tags": [
     "exercise-start",
     "exercise"
    ]
   },
   "source": [
    "<a class=\"anchor\" name=\"ex-example-1\"></a>\n",
    "<h3>   ✎    Exercise</h3>"
   ]
  },
  {
   "cell_type": "markdown",
   "metadata": {
    "exercise_id": "example-1",
    "tags": [
     "exercise"
    ]
   },
   "source": [
    "This cell will be part of the exercise, since all cells after an Exercise start are assumed to be part of the exercise.\n",
    "\n",
    "Exercises end at the next markdown Header, which may be another exercise."
   ]
  },
  {
   "cell_type": "markdown",
   "metadata": {
    "exercise_id": "example-1",
    "tags": [
     "exercise"
    ]
   },
   "source": [
    "Solutions to exercises **have** to be included"
   ]
  },
  {
   "cell_type": "markdown",
   "metadata": {
    "exercise_id": "Tags",
    "tags": [
     "exercise-start",
     "exercise"
    ]
   },
   "source": [
    "<a class=\"anchor\" name=\"ex-Tags\"></a>\n",
    "<h3>   ✎    Exercise</h3>"
   ]
  },
  {
   "cell_type": "code",
   "execution_count": null,
   "metadata": {
    "exercise_id": "Tags",
    "tags": [
     "exercise"
    ]
   },
   "outputs": [],
   "source": []
  },
  {
   "cell_type": "markdown",
   "metadata": {
    "tags": []
   },
   "source": [
    "## Parsing check\n",
    "\n",
    "Exercises can be directly one after another"
   ]
  },
  {
   "cell_type": "markdown",
   "metadata": {
    "exercise_id": "a",
    "tags": [
     "exercise-start",
     "exercise"
    ]
   },
   "source": [
    "<a class=\"anchor\" name=\"ex-a\"></a>\n",
    "<h3>   ✎    Exercise</h3>"
   ]
  },
  {
   "cell_type": "markdown",
   "metadata": {
    "exercise_id": "b",
    "tags": [
     "exercise-start",
     "exercise"
    ]
   },
   "source": [
    "<a class=\"anchor\" name=\"ex-b\"></a>\n",
    "<h3>   ✎    Exercise</h3>"
   ]
  },
  {
   "cell_type": "markdown",
   "metadata": {
    "exercise_id": "b",
    "tags": [
     "exercise"
    ]
   },
   "source": [
    "<a class=\"anchor\" name=\"myCell\"></a>\n",
    "Test"
   ]
  },
  {
   "cell_type": "markdown",
   "metadata": {
    "exercise_id": "b",
    "tags": [
     "exercise"
    ]
   },
   "source": []
  },
  {
   "cell_type": "code",
   "execution_count": null,
   "metadata": {
    "exercise_id": "b",
    "tags": [
     "exercise"
    ]
   },
   "outputs": [],
   "source": []
  },
  {
   "cell_type": "code",
   "execution_count": null,
   "metadata": {
    "exercise_id": "b",
    "tags": [
     "exercise"
    ]
   },
   "outputs": [],
   "source": []
  },
  {
   "cell_type": "code",
   "execution_count": null,
   "metadata": {
    "exercise_id": "b",
    "tags": [
     "exercise"
    ]
   },
   "outputs": [],
   "source": []
  },
  {
   "cell_type": "code",
   "execution_count": null,
   "metadata": {
    "exercise_id": "b",
    "tags": [
     "exercise"
    ]
   },
   "outputs": [],
   "source": []
  },
  {
   "cell_type": "code",
   "execution_count": null,
   "metadata": {
    "exercise_id": "b",
    "tags": [
     "exercise"
    ]
   },
   "outputs": [],
   "source": []
  },
  {
   "cell_type": "code",
   "execution_count": null,
   "metadata": {
    "exercise_id": "b",
    "tags": [
     "exercise"
    ]
   },
   "outputs": [],
   "source": []
  },
  {
   "cell_type": "code",
   "execution_count": null,
   "metadata": {
    "exercise_id": "b",
    "tags": [
     "exercise"
    ]
   },
   "outputs": [],
   "source": []
  },
  {
   "cell_type": "code",
   "execution_count": null,
   "metadata": {
    "exercise_id": "b",
    "tags": [
     "exercise"
    ]
   },
   "outputs": [],
   "source": []
  },
  {
   "cell_type": "code",
   "execution_count": null,
   "metadata": {
    "exercise_id": "b",
    "tags": [
     "exercise"
    ]
   },
   "outputs": [],
   "source": []
  },
  {
   "cell_type": "code",
   "execution_count": null,
   "metadata": {
    "exercise_id": "b",
    "tags": [
     "exercise"
    ]
   },
   "outputs": [],
   "source": []
  },
  {
   "cell_type": "code",
   "execution_count": null,
   "metadata": {
    "exercise_id": "b",
    "tags": [
     "exercise"
    ]
   },
   "outputs": [],
   "source": []
  },
  {
   "cell_type": "code",
   "execution_count": null,
   "metadata": {
    "exercise_id": "b",
    "tags": [
     "exercise"
    ]
   },
   "outputs": [],
   "source": []
  },
  {
   "cell_type": "code",
   "execution_count": null,
   "metadata": {
    "exercise_id": "b",
    "tags": [
     "exercise"
    ]
   },
   "outputs": [],
   "source": []
  },
  {
   "cell_type": "code",
   "execution_count": null,
   "metadata": {
    "exercise_id": "b",
    "tags": [
     "exercise"
    ]
   },
   "outputs": [],
   "source": []
  },
  {
   "cell_type": "code",
   "execution_count": null,
   "metadata": {
    "exercise_id": "b",
    "tags": [
     "exercise"
    ]
   },
   "outputs": [],
   "source": []
  },
  {
   "cell_type": "code",
   "execution_count": null,
   "metadata": {
    "exercise_id": "b",
    "tags": [
     "exercise"
    ]
   },
   "outputs": [],
   "source": []
  },
  {
   "cell_type": "code",
   "execution_count": null,
   "metadata": {
    "exercise_id": "b",
    "tags": [
     "exercise"
    ]
   },
   "outputs": [],
   "source": []
  },
  {
   "cell_type": "markdown",
   "metadata": {
    "exercise_id": "b",
    "tags": [
     "exercise"
    ]
   },
   "source": [
    "[Test Link](#ex-b)"
   ]
  },
  {
   "cell_type": "markdown",
   "metadata": {
    "exercise_id": "b",
    "tags": [
     "exercise"
    ]
   },
   "source": [
    "[text with link](#myCell)"
   ]
  },
  {
   "cell_type": "code",
   "execution_count": null,
   "metadata": {
    "exercise_id": "b",
    "tags": [
     "exercise"
    ]
   },
   "outputs": [],
   "source": []
  },
  {
   "cell_type": "code",
   "execution_count": null,
   "metadata": {
    "exercise_id": "b",
    "tags": [
     "exercise"
    ]
   },
   "outputs": [],
   "source": []
  }
 ],
 "metadata": {
  "kernelspec": {
   "display_name": "R",
   "language": "R",
   "name": "ir"
  },
  "language_info": {
   "codemirror_mode": "r",
   "file_extension": ".r",
   "mimetype": "text/x-r-source",
   "name": "R",
   "pygments_lexer": "r",
   "version": "4.2.2"
  }
 },
 "nbformat": 4,
 "nbformat_minor": 4
}
