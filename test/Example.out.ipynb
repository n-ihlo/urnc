{
 "cells": [
  {
   "cell_type": "markdown",
   "metadata": {},
   "source": [
    "# URNC Example Notebook\n",
    "\n",
    "This notebook is here to test the processing of the urnc command line tool"
   ]
  },
  {
   "cell_type": "markdown",
   "metadata": {
    "tags": []
   },
   "source": [
    "## Exercise Detection\n",
    "\n",
    "Exercises are:\n",
    "- markdown cells\n",
    "- start with `### Exercise`\n",
    "- have an exercise id afterwars in `` `exercise-id-here` ``\n",
    "\n",
    "Exercises are detected if they are markdown headers of level 3 and called `Exercise`, e.g `### Exercise`.\n"
   ]
  },
  {
   "cell_type": "markdown",
   "metadata": {
    "tags": []
   },
   "source": [
    "So ``### Exercise `example-1` `` becomes"
   ]
  },
  {
   "cell_type": "markdown",
   "metadata": {
    "tags": [
     "exercise-start",
     "exercise"
    ]
   },
   "source": [
    "<div class=\"alert alert-block alert-info\">\n",
    "    <b>Tip:</b> Use blue boxes (alert-info) for tips and notes. \n",
    "    If it’s a note, you don’t have to include the word “Note”.\n",
    "</div>"
   ]
  },
  {
   "cell_type": "markdown",
   "metadata": {
    "tags": [
     "exercise"
    ]
   },
   "source": [
    "This cell will be part of the exercise, since all cells after an Exercise start are assumed to be part of the exercise.\n",
    "\n",
    "Exercises end at the next markdown Header, which may be another exercise."
   ]
  },
  {
   "cell_type": "markdown",
   "metadata": {},
   "source": [
    "&#"
   ]
  },
  {
   "cell_type": "markdown",
   "metadata": {
    "tags": [
     "exercise"
    ]
   },
   "source": [
    "Solutions to exercises **have** to be included"
   ]
  },
  {
   "cell_type": "markdown",
   "metadata": {
    "tags": []
   },
   "source": [
    "### Exercise Tags\n",
    "\n",
    "`urnc` will tag the cells it detected as exercises.\n",
    "\n",
    "To view tags in JupyterLab select `View > Show Right Sidebar`\n"
   ]
  },
  {
   "cell_type": "code",
   "execution_count": null,
   "metadata": {},
   "outputs": [],
   "source": []
  },
  {
   "cell_type": "markdown",
   "metadata": {
    "tags": []
   },
   "source": [
    "## Parsing check\n",
    "\n",
    "Exercises can be directly one after another"
   ]
  },
  {
   "cell_type": "markdown",
   "metadata": {
    "tags": [
     "exercise-start",
     "exercise"
    ]
   },
   "source": [
    "<div class=\"alert alert-block alert-info\">\n",
    "    <b>Tip:</b> Use blue boxes (alert-info) for tips and notes. \n",
    "    If it’s a note, you don’t have to include the word “Note”.\n",
    "</div>"
   ]
  },
  {
   "cell_type": "markdown",
   "metadata": {
    "tags": [
     "exercise-start",
     "exercise"
    ]
   },
   "source": [
    "<div class=\"alert alert-block alert-info\">\n",
    "    <b>Tip:</b> Use blue boxes (alert-info) for tips and notes. \n",
    "    If it’s a note, you don’t have to include the word “Note”.\n",
    "</div>"
   ]
  },
  {
   "cell_type": "markdown",
   "metadata": {
    "tags": [
     "exercise"
    ]
   },
   "source": []
  },
  {
   "cell_type": "markdown",
   "metadata": {
    "tags": [
     "exercise"
    ]
   },
   "source": []
  },
  {
   "cell_type": "code",
   "execution_count": null,
   "metadata": {
    "tags": [
     "exercise"
    ]
   },
   "outputs": [],
   "source": []
  },
  {
   "cell_type": "markdown",
   "metadata": {
    "tags": [
     "exercise"
    ]
   },
   "source": [
    "[Test Link](#Exercise-b)"
   ]
  },
  {
   "cell_type": "code",
   "execution_count": null,
   "metadata": {
    "tags": [
     "exercise"
    ]
   },
   "outputs": [],
   "source": []
  }
 ],
 "metadata": {
  "kernelspec": {
   "display_name": "R",
   "language": "R",
   "name": "ir"
  },
  "language_info": {
   "codemirror_mode": "r",
   "file_extension": ".r",
   "mimetype": "text/x-r-source",
   "name": "R",
   "pygments_lexer": "r",
   "version": "4.2.2"
  }
 },
 "nbformat": 4,
 "nbformat_minor": 4
}
